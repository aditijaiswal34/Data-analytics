{
 "cells": [
  {
   "cell_type": "code",
   "execution_count": 16,
   "metadata": {},
   "outputs": [
    {
     "name": "stdout",
     "output_type": "stream",
     "text": [
      "{'English': 56, 'Hindi': 90, 'Math': 34, 'Chemistry': 34, 'Evs': 56}\n"
     ]
    }
   ],
   "source": [
    "raju=[56,90,34,34,56]\n",
    "raju_dict={\n",
    "    'English':56,\n",
    "    'Hindi': 90,\n",
    "    'Math':34,\n",
    "    'Chemistry':34,\n",
    "    'Evs':56\n",
    "}\n",
    "print(raju_dict)\n"
   ]
  },
  {
   "cell_type": "code",
   "execution_count": 2,
   "metadata": {},
   "outputs": [],
   "source": [
    "company= {\n",
    "    'Emp001': {\n",
    "        'name':\"Awanish Kumar\",\n",
    "        'designation':'Assistant III',\n",
    "        ' salary':32000,\n",
    "    },\n",
    "    'emp002' :{\n",
    "        'name': 'Ranu Singh',\n",
    "        'designation':'Staff officer',\n",
    "        'Salary':89000,\n",
    "    },\n",
    "    'total_emp':2,\n",
    "    'department':'Accounts',\n",
    "    'vacancy':['clerk','manager','assistant']\n",
    "}\n",
    "    \n"
   ]
  },
  {
   "cell_type": "code",
   "execution_count": 3,
   "metadata": {},
   "outputs": [
    {
     "data": {
      "text/plain": [
       "<function compile(source, filename, mode, flags=0, dont_inherit=False, optimize=-1, *, _feature_version=-1)>"
      ]
     },
     "execution_count": 3,
     "metadata": {},
     "output_type": "execute_result"
    }
   ],
   "source": [
    "compile"
   ]
  },
  {
   "cell_type": "code",
   "execution_count": 5,
   "metadata": {},
   "outputs": [
    {
     "name": "stdout",
     "output_type": "stream",
     "text": [
      "{'Emp001': {'name': 'Awanish Kumar', 'designation': 'Assistant III', ' salary': 32000}, 'emp002': {'name': 'Ranu Singh', 'designation': 'Staff officer', 'Salary': 89000}, 'total_emp': 2, 'department': 'Accounts', 'vacancy': ['clerk', 'manager', 'assistant'], 'name': 'Acme inc.'}\n"
     ]
    }
   ],
   "source": [
    "company['name']='Acme inc.'#adding a key and value to dict\n",
    "print(company)"
   ]
  },
  {
   "cell_type": "code",
   "execution_count": 6,
   "metadata": {},
   "outputs": [],
   "source": [
    "company['total_emp']=3\n",
    "company['emp003']={\n",
    "    'name': 'Ajay verma',\n",
    "    'designation':'clerk',\n",
    "    'salary':45000\n",
    "}\n"
   ]
  },
  {
   "cell_type": "code",
   "execution_count": 7,
   "metadata": {},
   "outputs": [
    {
     "data": {
      "text/plain": [
       "{'Emp001': {'name': 'Awanish Kumar',\n",
       "  'designation': 'Assistant III',\n",
       "  ' salary': 32000},\n",
       " 'emp002': {'name': 'Ranu Singh',\n",
       "  'designation': 'Staff officer',\n",
       "  'Salary': 89000},\n",
       " 'total_emp': 3,\n",
       " 'department': 'Accounts',\n",
       " 'vacancy': ['clerk', 'manager', 'assistant'],\n",
       " 'name': 'Acme inc.',\n",
       " 'emp003': {'name': 'Ajay verma', 'designation': 'clerk', 'salary': 45000}}"
      ]
     },
     "execution_count": 7,
     "metadata": {},
     "output_type": "execute_result"
    }
   ],
   "source": [
    "company"
   ]
  },
  {
   "cell_type": "code",
   "execution_count": 8,
   "metadata": {},
   "outputs": [
    {
     "data": {
      "text/plain": [
       "{'name': 'Awanish Kumar', 'designation': 'Assistant III', ' salary': 32000}"
      ]
     },
     "execution_count": 8,
     "metadata": {},
     "output_type": "execute_result"
    }
   ],
   "source": [
    "company['Emp001']"
   ]
  },
  {
   "cell_type": "code",
   "execution_count": null,
   "metadata": {},
   "outputs": [],
   "source": []
  },
  {
   "cell_type": "code",
   "execution_count": 9,
   "metadata": {},
   "outputs": [
    {
     "data": {
      "text/plain": [
       "{'name': 'Ajay verma', 'designation': 'clerk', 'salary': 45000}"
      ]
     },
     "execution_count": 9,
     "metadata": {},
     "output_type": "execute_result"
    }
   ],
   "source": [
    "#company['emp004']\n",
    "company.get('emp003')"
   ]
  },
  {
   "cell_type": "code",
   "execution_count": 10,
   "metadata": {},
   "outputs": [],
   "source": [
    "#company['emp004']\n",
    "company.get('website')"
   ]
  },
  {
   "cell_type": "code",
   "execution_count": 11,
   "metadata": {},
   "outputs": [
    {
     "name": "stdout",
     "output_type": "stream",
     "text": [
      "name exists in dict\n"
     ]
    }
   ],
   "source": [
    "if 'name' in company:\n",
    "    print('name exists in dict')"
   ]
  },
  {
   "cell_type": "code",
   "execution_count": 12,
   "metadata": {},
   "outputs": [],
   "source": [
    "if 'website' in company:\n",
    "    print('website exists in dict')"
   ]
  },
  {
   "cell_type": "code",
   "execution_count": 13,
   "metadata": {},
   "outputs": [
    {
     "name": "stdout",
     "output_type": "stream",
     "text": [
      "dict_keys(['Emp001', 'emp002', 'total_emp', 'department', 'vacancy', 'name', 'emp003'])\n",
      "dict_values([{'name': 'Awanish Kumar', 'designation': 'Assistant III', ' salary': 32000}, {'name': 'Ranu Singh', 'designation': 'Staff officer', 'Salary': 89000}, 3, 'Accounts', ['clerk', 'manager', 'assistant'], 'Acme inc.', {'name': 'Ajay verma', 'designation': 'clerk', 'salary': 45000}])\n"
     ]
    }
   ],
   "source": [
    "print(company.keys())\n",
    "print(company.values())"
   ]
  },
  {
   "cell_type": "code",
   "execution_count": 14,
   "metadata": {},
   "outputs": [
    {
     "name": "stdout",
     "output_type": "stream",
     "text": [
      "dict_items([('Emp001', {'name': 'Awanish Kumar', 'designation': 'Assistant III', ' salary': 32000}), ('emp002', {'name': 'Ranu Singh', 'designation': 'Staff officer', 'Salary': 89000}), ('total_emp', 3), ('department', 'Accounts'), ('vacancy', ['clerk', 'manager', 'assistant']), ('name', 'Acme inc.'), ('emp003', {'name': 'Ajay verma', 'designation': 'clerk', 'salary': 45000})])\n"
     ]
    }
   ],
   "source": [
    "print(company.items())"
   ]
  },
  {
   "cell_type": "code",
   "execution_count": 17,
   "metadata": {},
   "outputs": [
    {
     "name": "stdout",
     "output_type": "stream",
     "text": [
      "English\n",
      "Hindi\n",
      "Math\n",
      "Chemistry\n",
      "Evs\n"
     ]
    }
   ],
   "source": [
    "for i in raju_dict:\n",
    "    print(i)"
   ]
  },
  {
   "cell_type": "code",
   "execution_count": null,
   "metadata": {},
   "outputs": [],
   "source": [
    "for i in company:\n",
    "    print()"
   ]
  }
 ],
 "metadata": {
  "kernelspec": {
   "display_name": "base",
   "language": "python",
   "name": "python3"
  },
  "language_info": {
   "codemirror_mode": {
    "name": "ipython",
    "version": 3
   },
   "file_extension": ".py",
   "mimetype": "text/x-python",
   "name": "python",
   "nbconvert_exporter": "python",
   "pygments_lexer": "ipython3",
   "version": "3.10.10"
  },
  "orig_nbformat": 4
 },
 "nbformat": 4,
 "nbformat_minor": 2
}
