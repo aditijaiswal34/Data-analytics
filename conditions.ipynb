{
 "cells": [
  {
   "cell_type": "code",
   "execution_count": 1,
   "metadata": {},
   "outputs": [],
   "source": [
    "x=10\n",
    "y=3\n",
    "\n"
   ]
  },
  {
   "cell_type": "code",
   "execution_count": 2,
   "metadata": {},
   "outputs": [
    {
     "name": "stdout",
     "output_type": "stream",
     "text": [
      " x is greater than y\n",
      "that is true\n",
      "this is always printed\n"
     ]
    }
   ],
   "source": [
    "if x>y:\n",
    "    print(\" x is greater than y\")\n",
    "    print('that is true')\n",
    "print('this is always printed')    "
   ]
  },
  {
   "cell_type": "code",
   "execution_count": 3,
   "metadata": {},
   "outputs": [],
   "source": [
    "if x==y:\n",
    "    print('Wow')"
   ]
  },
  {
   "cell_type": "code",
   "execution_count": 4,
   "metadata": {},
   "outputs": [
    {
     "name": "stdout",
     "output_type": "stream",
     "text": [
      "x is greater than yand x is grater than 8\n"
     ]
    }
   ],
   "source": [
    "if x>y and x> 8:\n",
    "    print('x is greater than yand x is grater than 8')"
   ]
  },
  {
   "cell_type": "markdown",
   "metadata": {},
   "source": [
    "True values\n",
    "\n",
    "- True\n",
    "- non-zero numbers\n",
    "- non-empty strings\n",
    "\n",
    "False values\n",
    "\n",
    "- False\n",
    "- 0\n",
    "- 0.0\n",
    "- NOne\n",
    "- empty\n"
   ]
  },
  {
   "cell_type": "code",
   "execution_count": 5,
   "metadata": {},
   "outputs": [
    {
     "name": "stdout",
     "output_type": "stream",
     "text": [
      "you entered Aditi\n"
     ]
    }
   ],
   "source": [
    "name=input('Enter a name')\n",
    "if name:\n",
    "    print(f'you entered {name}')\n",
    "else:\n",
    "    print( 'you did not enter a name')    "
   ]
  },
  {
   "cell_type": "code",
   "execution_count": 6,
   "metadata": {},
   "outputs": [
    {
     "ename": "ValueError",
     "evalue": "invalid literal for int() with base 10: 'hj'",
     "output_type": "error",
     "traceback": [
      "\u001b[1;31m---------------------------------------------------------------------------\u001b[0m",
      "\u001b[1;31mValueError\u001b[0m                                Traceback (most recent call last)",
      "Cell \u001b[1;32mIn[6], line 1\u001b[0m\n\u001b[1;32m----> 1\u001b[0m x\u001b[39m=\u001b[39m\u001b[39mint\u001b[39;49m(\u001b[39minput\u001b[39;49m(\u001b[39m\"\u001b[39;49m\u001b[39mEnter a number\u001b[39;49m\u001b[39m\"\u001b[39;49m))\n\u001b[0;32m      2\u001b[0m \u001b[39mif\u001b[39;00m x\u001b[39m%\u001b[39m\u001b[39m2\u001b[39m\u001b[39m==\u001b[39m\u001b[39m0\u001b[39m:\n\u001b[0;32m      3\u001b[0m     \u001b[39mprint\u001b[39m(\u001b[39m'\u001b[39m\u001b[39meven\u001b[39m\u001b[39m'\u001b[39m)\n",
      "\u001b[1;31mValueError\u001b[0m: invalid literal for int() with base 10: 'hj'"
     ]
    }
   ],
   "source": [
    "x=int(input(\"Enter a number\"))\n",
    "if x%2==0:\n",
    "    print('even')\n",
    "else:\n",
    "     print('odd')"
   ]
  },
  {
   "cell_type": "code",
   "execution_count": null,
   "metadata": {},
   "outputs": [
    {
     "name": "stdout",
     "output_type": "stream",
     "text": [
      "Welcome Adituuuu\n"
     ]
    }
   ],
   "source": [
    "username= input('Enter username')\n",
    "password= input('Enter password')\n",
    "if username =='admin':\n",
    "    if password == '123admin':\n",
    "        print ('Welcome Adituuuu')\n",
    "    else:\n",
    "        print('Invalid password')\n",
    "else:\n",
    "    print('Invalid username')            \n"
   ]
  },
  {
   "cell_type": "code",
   "execution_count": 15,
   "metadata": {},
   "outputs": [
    {
     "name": "stdout",
     "output_type": "stream",
     "text": [
      "tuesday\n"
     ]
    }
   ],
   "source": [
    "day= input('Enter day')\n",
    "if day =='monday':\n",
    "    print('monday')\n",
    "elif day =='tuesday':\n",
    "    print('tuesday')\n",
    "elif day == 'Wednesday':\n",
    "    print ('Wednesday')\n",
    "else:\n",
    "    print('HOLIDAY')\n"
   ]
  },
  {
   "cell_type": "code",
   "execution_count": null,
   "metadata": {},
   "outputs": [
    {
     "name": "stdout",
     "output_type": "stream",
     "text": [
      "Weekend, not really\n"
     ]
    }
   ],
   "source": [
    "day = input('enter day')\n",
    "match day:\n",
    "    case 'monday':\n",
    "        print('Time to work')\n",
    "    case 'tuesday'| 'Wednesday':\n",
    "        print('Time to word again')\n",
    "    case 'Thrusday':      \n",
    "        print('Almost their')\n",
    "    case 'friday':\n",
    "        print('Weekend, not really')\n",
    "    case _:\n",
    "        print('Holiday')\n",
    "          \n"
   ]
  },
  {
   "cell_type": "code",
   "execution_count": 24,
   "metadata": {},
   "outputs": [
    {
     "name": "stdout",
     "output_type": "stream",
     "text": [
      "scorpio\n"
     ]
    }
   ],
   "source": [
    "month = input('What is your birth month')\n",
    "match month:\n",
    "    case 'January':\n",
    "        print('leo')\n",
    "    case 'Feb':\n",
    "        print('scorpio')\n",
    "    case 'march':\n",
    "        print('tauras')\n",
    "    case 'April':\n",
    "        print('cancer')\n",
    "    case 'May':\n",
    "        print ('sagitarus')     \n",
    "                "
   ]
  },
  {
   "cell_type": "code",
   "execution_count": null,
   "metadata": {},
   "outputs": [],
   "source": []
  },
  {
   "cell_type": "code",
   "execution_count": null,
   "metadata": {},
   "outputs": [],
   "source": []
  }
 ],
 "metadata": {
  "kernelspec": {
   "display_name": "base",
   "language": "python",
   "name": "python3"
  },
  "language_info": {
   "codemirror_mode": {
    "name": "ipython",
    "version": 3
   },
   "file_extension": ".py",
   "mimetype": "text/x-python",
   "name": "python",
   "nbconvert_exporter": "python",
   "pygments_lexer": "ipython3",
   "version": "3.10.10"
  },
  "orig_nbformat": 4
 },
 "nbformat": 4,
 "nbformat_minor": 2
}
