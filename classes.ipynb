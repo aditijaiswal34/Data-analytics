{
 "cells": [
  {
   "cell_type": "code",
   "execution_count": 2,
   "metadata": {},
   "outputs": [],
   "source": [
    "class Cat:\n",
    "    def __init__(self): #\n",
    "        print(\"The class constructor\")\n"
   ]
  },
  {
   "cell_type": "code",
   "execution_count": 3,
   "metadata": {},
   "outputs": [
    {
     "name": "stdout",
     "output_type": "stream",
     "text": [
      "The class constructor\n",
      "<__main__.Cat object at 0x000001A84378A3B0>\n"
     ]
    }
   ],
   "source": [
    "c1 = Cat()\n",
    "print(c1)\n"
   ]
  },
  {
   "cell_type": "code",
   "execution_count": 4,
   "metadata": {},
   "outputs": [
    {
     "name": "stdout",
     "output_type": "stream",
     "text": [
      "<class '__main__.Cat'>\n"
     ]
    }
   ],
   "source": [
    "a=type(c1)\n",
    "print(a)"
   ]
  },
  {
   "cell_type": "code",
   "execution_count": 6,
   "metadata": {},
   "outputs": [],
   "source": [
    "class student:\n",
    "    def __init__(self,name,klass,roll_no,stream=\"bio\"):\n",
    "        self.name=name\n",
    "        self.klass=klass\n",
    "        self.roll_no=roll_no\n",
    "        self.stream=stream\n",
    "        self.marks={} # property of the class\n",
    "\n",
    "    def think(self,object):\n",
    "        print(f\"I am thinking about {object}\")\n",
    "\n",
    "    def SetMarks(self,subject,value):\n",
    "        self.marks[subject]=value\n",
    " \n",
    "        \n",
    "        \n"
   ]
  },
  {
   "cell_type": "code",
   "execution_count": 12,
   "metadata": {},
   "outputs": [],
   "source": [
    "aditi=student(\"Aditi\",12,'22',\"Maths\")\n",
    "Yash=student(\"Yash\",11,'23')\n",
    "aditi.SetMarks('hindi',90)\n",
    "aditi.SetMarks('maths',75)\n",
    "aditi.SetMarks('english',80)\n",
    "\n",
    "\n"
   ]
  },
  {
   "cell_type": "code",
   "execution_count": 13,
   "metadata": {},
   "outputs": [
    {
     "name": "stdout",
     "output_type": "stream",
     "text": [
      "{'hindi': 90, 'maths': 75, 'english': 80}\n"
     ]
    }
   ],
   "source": [
    "print(aditi.marks)"
   ]
  },
  {
   "cell_type": "markdown",
   "metadata": {},
   "source": [
    "# inheritance"
   ]
  },
  {
   "cell_type": "code",
   "execution_count": 15,
   "metadata": {},
   "outputs": [],
   "source": [
    "class SuperList(list):\n",
    "    pass"
   ]
  },
  {
   "cell_type": "code",
   "execution_count": 16,
   "metadata": {},
   "outputs": [
    {
     "name": "stdout",
     "output_type": "stream",
     "text": [
      "[1, 2, 3, 4, 5]\n",
      "[1, 2, 3, 4, 5, 20]\n"
     ]
    }
   ],
   "source": [
    "x=SuperList([1,2,3,4,5,])\n",
    "print(x)\n",
    "x.append(20)\n",
    "print(x)"
   ]
  },
  {
   "cell_type": "code",
   "execution_count": 20,
   "metadata": {},
   "outputs": [],
   "source": [
    "class SuperList(list):\n",
    "    def all_index(self,search):\n",
    "        idxs=[]\n",
    "        sidx=0\n",
    "        start_idx=0\n",
    "        for i in range (self.count(search)):\n",
    "            pos=self.index(search,start_idx)\n",
    "        idxs.append(pos)\n",
    "        start_idx=pos+1\n",
    "        return idxs    "
   ]
  },
  {
   "cell_type": "code",
   "execution_count": 23,
   "metadata": {},
   "outputs": [
    {
     "data": {
      "text/plain": [
       "3"
      ]
     },
     "execution_count": 23,
     "metadata": {},
     "output_type": "execute_result"
    }
   ],
   "source": [
    "\n",
    "x=[1,2,3,4,5]\n",
    "x.index(4)"
   ]
  },
  {
   "cell_type": "code",
   "execution_count": null,
   "metadata": {},
   "outputs": [],
   "source": []
  }
 ],
 "metadata": {
  "kernelspec": {
   "display_name": "Python 3",
   "language": "python",
   "name": "python3"
  },
  "language_info": {
   "codemirror_mode": {
    "name": "ipython",
    "version": 3
   },
   "file_extension": ".py",
   "mimetype": "text/x-python",
   "name": "python",
   "nbconvert_exporter": "python",
   "pygments_lexer": "ipython3",
   "version": "3.10.10"
  },
  "orig_nbformat": 4
 },
 "nbformat": 4,
 "nbformat_minor": 2
}
