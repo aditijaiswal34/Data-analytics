{
 "cells": [
  {
   "cell_type": "code",
   "execution_count": 3,
   "metadata": {},
   "outputs": [
    {
     "name": "stdout",
     "output_type": "stream",
     "text": [
      "1\n",
      "23\n",
      "5\n",
      "6\n",
      "3\n",
      "6\n",
      "21\n",
      "6\n",
      "6\n"
     ]
    }
   ],
   "source": [
    "nums=[1,23,5,6,3,6,21,6,6]\n",
    "for i in nums:\n",
    "    print(i)"
   ]
  },
  {
   "cell_type": "code",
   "execution_count": 5,
   "metadata": {},
   "outputs": [
    {
     "name": "stdout",
     "output_type": "stream",
     "text": [
      "1\n",
      "529\n",
      "25\n",
      "36\n",
      "9\n",
      "36\n",
      "441\n",
      "36\n",
      "36\n"
     ]
    }
   ],
   "source": [
    "nums=[1,23,5,6,3,6,21,6,6]\n",
    "for nums in nums:\n",
    "    print(nums**2)"
   ]
  },
  {
   "cell_type": "markdown",
   "metadata": {},
   "source": [
    "- enumerate\n",
    "- zip"
   ]
  },
  {
   "cell_type": "code",
   "execution_count": 9,
   "metadata": {},
   "outputs": [
    {
     "name": "stdout",
     "output_type": "stream",
     "text": [
      "Aditi 0\n",
      "Ambika 1\n",
      "Yash 2\n"
     ]
    }
   ],
   "source": [
    "name=['Aditi','Ambika','Yash']\n",
    "for idx,name in enumerate(name):\n",
    "    print(name,idx)"
   ]
  },
  {
   "cell_type": "code",
   "execution_count": 13,
   "metadata": {},
   "outputs": [
    {
     "name": "stdout",
     "output_type": "stream",
     "text": [
      "5\n",
      "18\n",
      "39\n",
      "68\n",
      "105\n"
     ]
    }
   ],
   "source": [
    "x=[2,4,6,8,10]\n",
    "y=[1,3,5,7,9]\n",
    "z=[3,6,9,12,15]\n",
    "for i,j,k in zip(x,y,z):\n",
    "    print(i*j+k)"
   ]
  },
  {
   "cell_type": "code",
   "execution_count": 16,
   "metadata": {},
   "outputs": [
    {
     "name": "stdout",
     "output_type": "stream",
     "text": [
      "Interseller         8.9\n",
      "The Martian         7.8\n",
      "Gravity             6.9\n",
      "Apollo 13           7.6\n"
     ]
    }
   ],
   "source": [
    "movies=['Interseller','The Martian','Gravity','Apollo 13']\n",
    "rating=[8.9,7.8,6.9,7.6]\n",
    "\n",
    "for name,star in zip(movies,rating):\n",
    "    print(f'{name:20}{star}')"
   ]
  },
  {
   "cell_type": "code",
   "execution_count": null,
   "metadata": {},
   "outputs": [],
   "source": []
  }
 ],
 "metadata": {
  "kernelspec": {
   "display_name": "base",
   "language": "python",
   "name": "python3"
  },
  "language_info": {
   "codemirror_mode": {
    "name": "ipython",
    "version": 3
   },
   "file_extension": ".py",
   "mimetype": "text/x-python",
   "name": "python",
   "nbconvert_exporter": "python",
   "pygments_lexer": "ipython3",
   "version": "3.10.10"
  },
  "orig_nbformat": 4
 },
 "nbformat": 4,
 "nbformat_minor": 2
}
