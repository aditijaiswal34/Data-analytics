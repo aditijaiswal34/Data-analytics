{
 "cells": [
  {
   "cell_type": "code",
   "execution_count": 1,
   "metadata": {},
   "outputs": [
    {
     "name": "stdout",
     "output_type": "stream",
     "text": [
      "1\n",
      "23\n",
      "5\n",
      "6\n",
      "3\n",
      "6\n",
      "21\n",
      "6\n",
      "6\n"
     ]
    }
   ],
   "source": [
    "nums=[1,23,5,6,3,6,21,6,6]\n",
    "for i in nums:\n",
    "    print(i)"
   ]
  },
  {
   "cell_type": "code",
   "execution_count": 2,
   "metadata": {},
   "outputs": [
    {
     "name": "stdout",
     "output_type": "stream",
     "text": [
      "1\n",
      "529\n",
      "25\n",
      "36\n",
      "9\n",
      "36\n",
      "441\n",
      "36\n",
      "36\n"
     ]
    }
   ],
   "source": [
    "nums=[1,23,5,6,3,6,21,6,6]\n",
    "for nums in nums:\n",
    "    print(nums**2)"
   ]
  },
  {
   "cell_type": "markdown",
   "metadata": {},
   "source": [
    "- enumerate\n",
    "- zip"
   ]
  },
  {
   "cell_type": "code",
   "execution_count": 3,
   "metadata": {},
   "outputs": [
    {
     "name": "stdout",
     "output_type": "stream",
     "text": [
      "Aditi 0\n",
      "Ambika 1\n",
      "Yash 2\n"
     ]
    }
   ],
   "source": [
    "name=['Aditi','Ambika','Yash']\n",
    "for idx,name in enumerate(name):\n",
    "    print(name,idx)"
   ]
  },
  {
   "cell_type": "code",
   "execution_count": 13,
   "metadata": {},
   "outputs": [
    {
     "name": "stdout",
     "output_type": "stream",
     "text": [
      "5\n",
      "18\n",
      "39\n",
      "68\n",
      "105\n"
     ]
    }
   ],
   "source": [
    "x=[2,4,6,8,10]\n",
    "y=[1,3,5,7,9]\n",
    "z=[3,6,9,12,15]\n",
    "for i,j,k in zip(x,y,z):\n",
    "    print(i*j+k)"
   ]
  },
  {
   "cell_type": "code",
   "execution_count": 4,
   "metadata": {},
   "outputs": [
    {
     "name": "stdout",
     "output_type": "stream",
     "text": [
      "Interseller         8.9\n",
      "The Martian         7.8\n",
      "Gravity             6.9\n",
      "Apollo 13           7.6\n"
     ]
    }
   ],
   "source": [
    "movies=['Interseller','The Martian','Gravity','Apollo 13']\n",
    "rating=[8.9,7.8,6.9,7.6]\n",
    "\n",
    "for name,star in zip(movies,rating):\n",
    "    print(f'{name:20}{star}')"
   ]
  },
  {
   "cell_type": "markdown",
   "metadata": {},
   "source": [
    "- Break and Continue"
   ]
  },
  {
   "cell_type": "code",
   "execution_count": 8,
   "metadata": {},
   "outputs": [
    {
     "name": "stdout",
     "output_type": "stream",
     "text": [
      "1 2 2 3 2 2 1 2 2 3 4 5 1 2 4 5 "
     ]
    }
   ],
   "source": [
    "x= [1,2,2,3,2,2,1,2,2,3,4,5,1,2,4,5]\n",
    "for i in x:\n",
    "    if i==0:\n",
    "        break\n",
    "    print(i,end=' ')"
   ]
  },
  {
   "cell_type": "code",
   "execution_count": 9,
   "metadata": {},
   "outputs": [
    {
     "name": "stdout",
     "output_type": "stream",
     "text": [
      "1 2 2 3 2 2 1 2 2 3 4 5 1 2 4 5 Loop completed\n"
     ]
    }
   ],
   "source": [
    "for i in x:\n",
    "    if i==0:\n",
    "        break\n",
    "    print(i, end =' ')\n",
    "else:\n",
    "    print('Loop completed')"
   ]
  },
  {
   "cell_type": "code",
   "execution_count": 15,
   "metadata": {},
   "outputs": [
    {
     "name": "stdout",
     "output_type": "stream",
     "text": [
      "56%2=0\n",
      "Not prime\n"
     ]
    }
   ],
   "source": [
    "num=int(input('Enter a number'))\n",
    "for i in range(2,num):\n",
    "    print(f'{num}%{i}={num%i}')\n",
    "    if num%i==0:\n",
    "        print('Not prime')\n",
    "        break\n",
    "else:\n",
    "    print('Prime')    "
   ]
  },
  {
   "cell_type": "code",
   "execution_count": 16,
   "metadata": {},
   "outputs": [
    {
     "name": "stdout",
     "output_type": "stream",
     "text": [
      "1 2 3 5 1 2 23 3 1 2 2 3 3 "
     ]
    }
   ],
   "source": [
    "x=[1,2,3,None,5,1,None,2,23,None,3,1,2,2,3,None,3]\n",
    "for num in x:\n",
    "    if num is None:\n",
    "        continue\n",
    "    print(num,end=' ')"
   ]
  },
  {
   "cell_type": "code",
   "execution_count": 17,
   "metadata": {},
   "outputs": [
    {
     "name": "stdout",
     "output_type": "stream",
     "text": [
      "1 2 3 5 1 2 23 3 1 2 2 3 3 "
     ]
    }
   ],
   "source": [
    "for num in x:\n",
    "    if num is  not None:\n",
    "        print(num,end=' ')"
   ]
  },
  {
   "cell_type": "code",
   "execution_count": 20,
   "metadata": {},
   "outputs": [
    {
     "name": "stdout",
     "output_type": "stream",
     "text": [
      "sum 13\n"
     ]
    }
   ],
   "source": [
    "X=[1,2,4,5,7,8,10,12,20]\n",
    "s=0\n",
    "for num in X:\n",
    "    if num%2!=0:\n",
    "        s+=num\n",
    "print('sum',s)    "
   ]
  },
  {
   "cell_type": "markdown",
   "metadata": {},
   "source": [
    "Infinite loop"
   ]
  },
  {
   "cell_type": "code",
   "execution_count": 24,
   "metadata": {},
   "outputs": [
    {
     "name": "stdout",
     "output_type": "stream",
     "text": [
      "❌wrong Username\n",
      "Welcome admin😊\n"
     ]
    }
   ],
   "source": [
    "while True:\n",
    "    user = input('enter username:❤️')\n",
    "    password=input('enter password:🔑')\n",
    "    if user=='admin':\n",
    "        if password=='secret':\n",
    "            print('Welcome admin😊')\n",
    "            break\n",
    "        else:\n",
    "            print('❌wrong password')\n",
    "    else:\n",
    "        print('❌wrong Username')"
   ]
  },
  {
   "cell_type": "markdown",
   "metadata": {},
   "source": [
    "- Practice Questions"
   ]
  },
  {
   "cell_type": "markdown",
   "metadata": {},
   "source": [
    "- Write a program to print numbers from 1 to 10 using a for loop."
   ]
  },
  {
   "cell_type": "code",
   "execution_count": 1,
   "metadata": {},
   "outputs": [
    {
     "name": "stdout",
     "output_type": "stream",
     "text": [
      "1\n",
      "2\n",
      "3\n",
      "4\n",
      "5\n",
      "6\n",
      "7\n",
      "8\n",
      "9\n",
      "10\n"
     ]
    }
   ],
   "source": [
    "for num in range(1, 11):\n",
    "    print(num)\n"
   ]
  },
  {
   "cell_type": "code",
   "execution_count": 2,
   "metadata": {},
   "outputs": [
    {
     "name": "stdout",
     "output_type": "stream",
     "text": [
      "1\n",
      "2\n",
      "3\n",
      "4\n",
      "5\n",
      "6\n",
      "7\n",
      "8\n",
      "9\n",
      "10\n"
     ]
    }
   ],
   "source": [
    "num = [1,2,3,4,5,6,7,8,9,10]\n",
    "for i in num:\n",
    "    print(i)"
   ]
  },
  {
   "cell_type": "markdown",
   "metadata": {},
   "source": [
    "Write a program to print the multiplication table of a given number using a while loop."
   ]
  },
  {
   "cell_type": "code",
   "execution_count": 3,
   "metadata": {},
   "outputs": [
    {
     "name": "stdout",
     "output_type": "stream",
     "text": [
      "6*1 = 6\n",
      "6*2 = 12\n",
      "6*3 = 18\n",
      "6*4 = 24\n",
      "6*5 = 30\n",
      "6*6 = 36\n",
      "6*7 = 42\n",
      "6*8 = 48\n",
      "6*9 = 54\n",
      "6*10 = 60\n"
     ]
    }
   ],
   "source": [
    "\n",
    "num = int(input(\"Enter a number: \"))\n",
    "\n",
    "i = 1\n",
    "while i <= 10:\n",
    "    result = num * i\n",
    "    print(f\"{num}*{i} = {result}\")\n",
    "    i += 1\n"
   ]
  },
  {
   "cell_type": "markdown",
   "metadata": {},
   "source": [
    "Write a program to find the sum of all even numbers between 1 and 100 using a for loop."
   ]
  },
  {
   "cell_type": "code",
   "execution_count": 5,
   "metadata": {},
   "outputs": [
    {
     "name": "stdout",
     "output_type": "stream",
     "text": [
      "Sum of even numbers between 1 and 100: 2550\n"
     ]
    }
   ],
   "source": [
    "\n",
    "sum = 0\n",
    "for num in range(1, 101):\n",
    "    if num % 2 == 0:\n",
    "        sum += num\n",
    "print(\"Sum of even numbers between 1 and 100:\", sum)\n"
   ]
  },
  {
   "cell_type": "markdown",
   "metadata": {},
   "source": [
    "Write a program to check if a given number is prime or not using a while loop."
   ]
  },
  {
   "cell_type": "code",
   "execution_count": 6,
   "metadata": {},
   "outputs": [
    {
     "name": "stdout",
     "output_type": "stream",
     "text": [
      "6%2=0\n",
      "Not prime\n"
     ]
    }
   ],
   "source": [
    "num=int(input('Enter a number'))\n",
    "for i in range(2,num):\n",
    "    print(f'{num}%{i}={num%i}')\n",
    "    if num%i==0:\n",
    "        print('Not prime')\n",
    "        break\n",
    "else:\n",
    "    print('Prime')    "
   ]
  },
  {
   "cell_type": "markdown",
   "metadata": {},
   "source": [
    "Write a program to calculate the factorial of a number using a for loop."
   ]
  },
  {
   "cell_type": "code",
   "execution_count": 7,
   "metadata": {},
   "outputs": [
    {
     "name": "stdout",
     "output_type": "stream",
     "text": [
      "The factorial of 5 is: 120\n"
     ]
    }
   ],
   "source": [
    "\n",
    "num = int(input(\"Enter a number: \"))\n",
    "factorial = 1\n",
    "for i in range(1, num + 1):\n",
    "    factorial *= i\n",
    "print(f\"The factorial of {num} is: {factorial}\")\n"
   ]
  },
  {
   "cell_type": "markdown",
   "metadata": {},
   "source": [
    "Write a program to print the Fibonacci series up to a given limit using a while loop."
   ]
  },
  {
   "cell_type": "code",
   "execution_count": 9,
   "metadata": {},
   "outputs": [
    {
     "name": "stdout",
     "output_type": "stream",
     "text": [
      "0 1 1 2 3 5 "
     ]
    }
   ],
   "source": [
    "\n",
    "value = int(input(\"Enter the  value for the Fibonacci series: \"))\n",
    "num1, num2 = 0, 1\n",
    "print(num1, end=\" \")\n",
    "while num2 <= value:\n",
    "    print(num2, end=\" \")\n",
    "    num1, num2 = num2, num1 + num2\n"
   ]
  },
  {
   "cell_type": "markdown",
   "metadata": {},
   "source": [
    "Write a program to find the largest element in an array using a for loop."
   ]
  },
  {
   "cell_type": "code",
   "execution_count": 10,
   "metadata": {},
   "outputs": [
    {
     "name": "stdout",
     "output_type": "stream",
     "text": [
      "The largest element in the array is: 50\n"
     ]
    }
   ],
   "source": [
    "arr=[2,20,3,30,4,40,5,1,15,50,12]\n",
    "largest=max(arr)\n",
    "print(f\"The largest element in the array is: {largest}\")"
   ]
  },
  {
   "cell_type": "markdown",
   "metadata": {},
   "source": [
    "Write a program to reverse a given string using a while loop."
   ]
  },
  {
   "cell_type": "code",
   "execution_count": 12,
   "metadata": {},
   "outputs": [
    {
     "name": "stdout",
     "output_type": "stream",
     "text": [
      "HSAY\n"
     ]
    }
   ],
   "source": [
    "name=\"YASH\"\n",
    "f=name[::-1]#reverse\n",
    "print(f)"
   ]
  },
  {
   "cell_type": "markdown",
   "metadata": {},
   "source": [
    "Write a program to print the ASCII values of all uppercase letters using a for loop."
   ]
  },
  {
   "cell_type": "code",
   "execution_count": 13,
   "metadata": {},
   "outputs": [
    {
     "name": "stdout",
     "output_type": "stream",
     "text": [
      "ASCII value of 'A': 65\n",
      "ASCII value of 'B': 66\n",
      "ASCII value of 'C': 67\n",
      "ASCII value of 'D': 68\n",
      "ASCII value of 'E': 69\n",
      "ASCII value of 'F': 70\n",
      "ASCII value of 'G': 71\n",
      "ASCII value of 'H': 72\n",
      "ASCII value of 'I': 73\n",
      "ASCII value of 'J': 74\n",
      "ASCII value of 'K': 75\n",
      "ASCII value of 'L': 76\n",
      "ASCII value of 'M': 77\n",
      "ASCII value of 'N': 78\n",
      "ASCII value of 'O': 79\n",
      "ASCII value of 'P': 80\n",
      "ASCII value of 'Q': 81\n",
      "ASCII value of 'R': 82\n",
      "ASCII value of 'S': 83\n",
      "ASCII value of 'T': 84\n",
      "ASCII value of 'U': 85\n",
      "ASCII value of 'V': 86\n",
      "ASCII value of 'W': 87\n",
      "ASCII value of 'X': 88\n",
      "ASCII value of 'Y': 89\n",
      "ASCII value of 'Z': 90\n"
     ]
    }
   ],
   "source": [
    "\n",
    "for letter in range(ord('A'), ord('Z') + 1):\n",
    "    print(f\"ASCII value of '{chr(letter)}': {letter}\")\n"
   ]
  },
  {
   "cell_type": "markdown",
   "metadata": {},
   "source": [
    "Write a program to check if a given string is a palindrome using a while loop.\n",
    "\n"
   ]
  },
  {
   "cell_type": "code",
   "execution_count": null,
   "metadata": {},
   "outputs": [],
   "source": [
    "# Input the string to check\n",
    "string = input(\"Enter a string: \")\n",
    "\n",
    "string = string.lower()\n",
    "\n",
    "# Check if the string is a palindrome\n",
    "is_palindrome = string == string[::-1]\n",
    "\n",
    "# Print the result\n",
    "if is_palindrome:\n",
    "    print(f\"'{string}' is a palindrome.\")\n",
    "else:\n",
    "    print(f\"'{string}' is not a palindrome.\")\n"
   ]
  }
 ],
 "metadata": {
  "kernelspec": {
   "display_name": "base",
   "language": "python",
   "name": "python3"
  },
  "language_info": {
   "codemirror_mode": {
    "name": "ipython",
    "version": 3
   },
   "file_extension": ".py",
   "mimetype": "text/x-python",
   "name": "python",
   "nbconvert_exporter": "python",
   "pygments_lexer": "ipython3",
   "version": "3.10.10"
  },
  "orig_nbformat": 4
 },
 "nbformat": 4,
 "nbformat_minor": 2
}
