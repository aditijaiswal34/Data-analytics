{
 "cells": [
  {
   "cell_type": "markdown",
   "metadata": {},
   "source": [
    "# file handling\n",
    "- open\n",
    "- read\n",
    "- write\n",
    "- append\n",
    "- close \n",
    "    - with keyword is better"
   ]
  },
  {
   "cell_type": "code",
   "execution_count": 2,
   "metadata": {},
   "outputs": [
    {
     "data": {
      "text/plain": [
       "<_io.TextIOWrapper name='t1.py' mode='r' encoding='UTF-8'>"
      ]
     },
     "execution_count": 2,
     "metadata": {},
     "output_type": "execute_result"
    }
   ],
   "source": [
    "open('t1.py') #open and load into memory"
   ]
  },
  {
   "cell_type": "code",
   "execution_count": 3,
   "metadata": {},
   "outputs": [
    {
     "data": {
      "text/plain": [
       "\"from turtle import *\\n\\nspeed('slowest')\\npencolor('red')\\n\\n\\nfor i in range(6,40,5):\\n    fd(50)\\n    lt(360/10)\\n    dot(10,'green')\\n    write(i,font=('Calibri',20,'bold'))\\n    #reverse\\n    goto(100,100)\\n    for i in range(10,0,-1):\\n        fd(60)\\n        lt(360/10)\\n        dot(20,'red')\\n        write(i,font=('Calibri',20,'bold'))\\nmainloop()\\n\\n\""
      ]
     },
     "execution_count": 3,
     "metadata": {},
     "output_type": "execute_result"
    }
   ],
   "source": [
    "open('t1.py').read()"
   ]
  },
  {
   "cell_type": "code",
   "execution_count": 8,
   "metadata": {},
   "outputs": [
    {
     "name": "stdout",
     "output_type": "stream",
     "text": [
      "from turtle import *\n",
      "\n",
      "speed('slowest')\n",
      "pencolor('red')\n",
      "\n",
      "\n",
      "for i in range(6,40,5):\n",
      "    fd(50)\n",
      "    lt(360/10)\n",
      "    dot(10,'green')\n",
      "    write(i,font=('Calibri',20,'bold'))\n",
      "    #reverse\n",
      "    goto(100,100)\n",
      "    for i in range(10,0,-1):\n",
      "        fd(60)\n",
      "        lt(360/10)\n",
      "        dot(20,'red')\n",
      "        write(i,font=('Calibri',20,'bold'))\n",
      "mainloop()\n",
      "\n",
      "\n"
     ]
    }
   ],
   "source": [
    "# reading a file using with statement\n",
    "with open('t1.py',encoding='utf-8',errors='ignore') as file: #we use it only when error comes\n",
    "    content=file.read()\n",
    "print(content)    "
   ]
  },
  {
   "cell_type": "code",
   "execution_count": 9,
   "metadata": {},
   "outputs": [
    {
     "name": "stdout",
     "output_type": "stream",
     "text": [
      "118607\n"
     ]
    }
   ],
   "source": [
    "path=r'C:\\Users\\hp\\OneDrive\\Pictures\\family.jpeg'\n",
    "#open the file in read binary mode.\n",
    "with open(path,'rb') as file:\n",
    "    bytes=file.read()\n",
    "    print(len(bytes))"
   ]
  },
  {
   "cell_type": "code",
   "execution_count": 10,
   "metadata": {},
   "outputs": [
    {
     "name": "stdout",
     "output_type": "stream",
     "text": [
      "File created successfully\n"
     ]
    }
   ],
   "source": [
    "# creating a  text file\n",
    "data='life Before Death\\n Strength Before Weakness\\nJourney Before Destination'\n",
    "# 'w' is the write mode\n",
    "with open('oaths.txt','w') as f:\n",
    "    f.write(data)\n",
    "    print('File created successfully')\n"
   ]
  },
  {
   "cell_type": "code",
   "execution_count": 12,
   "metadata": {},
   "outputs": [
    {
     "name": "stdout",
     "output_type": "stream",
     "text": [
      "kahani khatham\n"
     ]
    }
   ],
   "source": [
    "with open('kahani.txt','w')as file:\n",
    "    while True:\n",
    "        line=input('>>>')\n",
    "        if not line:\n",
    "            break\n",
    "        file.writelines(line + '\\n')\n",
    "        print('kahani khatham')"
   ]
  },
  {
   "cell_type": "code",
   "execution_count": 13,
   "metadata": {},
   "outputs": [
    {
     "name": "stdout",
     "output_type": "stream",
     "text": [
      "File updated successfully\n"
     ]
    }
   ],
   "source": [
    "# adding content to existing file.\n",
    "with open('oaths.txt','a') as file:\n",
    "    file.write('\\nThe first ideal of knight Radiant\\n')\n",
    "    file.write('from the book: The way of king\\n')\n",
    "    print('File updated successfully')"
   ]
  },
  {
   "cell_type": "code",
   "execution_count": 1,
   "metadata": {},
   "outputs": [],
   "source": [
    "import os"
   ]
  },
  {
   "cell_type": "code",
   "execution_count": 3,
   "metadata": {},
   "outputs": [
    {
     "name": "stdout",
     "output_type": "stream",
     "text": [
      "the current path is:\n",
      "<built-in function getcwd>\n"
     ]
    }
   ],
   "source": [
    "print('the current path is:')\n",
    "print(os.getcwd)"
   ]
  },
  {
   "cell_type": "code",
   "execution_count": 4,
   "metadata": {},
   "outputs": [
    {
     "name": "stdout",
     "output_type": "stream",
     "text": [
      "all the cuntent in current dictioinary:\n"
     ]
    },
    {
     "data": {
      "text/plain": [
       "['.git',\n",
       " 'basics.ipynb',\n",
       " 'conditions.ipynb',\n",
       " 'dictionary.ipynb',\n",
       " 'file_handling.ipynb',\n",
       " 'hello.py',\n",
       " 'kahani.txt',\n",
       " 'list.ipynb',\n",
       " 'loops.ipynb',\n",
       " 'oaths.txt',\n",
       " 'strings.ipynb',\n",
       " 't1.py',\n",
       " 't2.py',\n",
       " 't3.py',\n",
       " 't4.py',\n",
       " 'tuple_n_sets.ipynb']"
      ]
     },
     "execution_count": 4,
     "metadata": {},
     "output_type": "execute_result"
    }
   ],
   "source": [
    "print('all the cuntent in current dictioinary:')\n",
    "os.listdir()"
   ]
  },
  {
   "cell_type": "code",
   "execution_count": 5,
   "metadata": {},
   "outputs": [
    {
     "name": "stdout",
     "output_type": "stream",
     "text": [
      "all the content of some other location\n"
     ]
    },
    {
     "data": {
      "text/plain": [
       "['addins',\n",
       " 'appcompat',\n",
       " 'apppatch',\n",
       " 'AppReadiness',\n",
       " 'assembly',\n",
       " 'bcastdvr',\n",
       " 'bfsvc.exe',\n",
       " 'Boot',\n",
       " 'bootstat.dat',\n",
       " 'Branding',\n",
       " 'BrowserCore',\n",
       " 'CbsTemp',\n",
       " 'comsetup.log',\n",
       " 'Containers',\n",
       " 'Core.xml',\n",
       " 'CoreSingleLanguage.xml',\n",
       " 'CSUP.txt',\n",
       " 'Cursors',\n",
       " 'debug',\n",
       " 'diagerr.xml',\n",
       " 'diagnostics',\n",
       " 'DiagTrack',\n",
       " 'diagwrn.xml',\n",
       " 'DigitalLocker',\n",
       " 'Downloaded Program Files',\n",
       " 'DtcInstall.log',\n",
       " 'ELAMBKUP',\n",
       " 'en-US',\n",
       " 'explorer.exe',\n",
       " 'Firmware',\n",
       " 'Fonts',\n",
       " 'GameBarPresenceWriter',\n",
       " 'Globalization',\n",
       " 'Help',\n",
       " 'HelpPane.exe',\n",
       " 'hh.exe',\n",
       " 'HoloShell',\n",
       " 'HP',\n",
       " 'HPCUST1.exe',\n",
       " 'HPCUST2.exe',\n",
       " 'IdentityCRL',\n",
       " 'IME',\n",
       " 'ImmersiveControlPanel',\n",
       " 'INF',\n",
       " 'InputMethod',\n",
       " 'Installer',\n",
       " 'L2Schemas',\n",
       " 'LanguageOverlayCache',\n",
       " 'LiveKernelReports',\n",
       " 'Logs',\n",
       " 'lsasetup.log',\n",
       " 'Media',\n",
       " 'MEMORY.DMP',\n",
       " 'mib.bin',\n",
       " 'Microsoft.NET',\n",
       " 'Migration',\n",
       " 'Minidump',\n",
       " 'ModemLogs',\n",
       " 'notepad.exe',\n",
       " 'OCR',\n",
       " 'Offline Web Pages',\n",
       " 'Panther',\n",
       " 'Performance',\n",
       " 'PFRO.log',\n",
       " 'PidVid_List',\n",
       " 'PLA',\n",
       " 'PolicyDefinitions',\n",
       " 'Prefetch',\n",
       " 'PrintDialog',\n",
       " 'Provisioning',\n",
       " 'py.exe',\n",
       " 'pyshellext.amd64.dll',\n",
       " 'pyw.exe',\n",
       " 'regedit.exe',\n",
       " 'Registration',\n",
       " 'rescache',\n",
       " 'Resources',\n",
       " 'RtkBtManServ.exe',\n",
       " 'rtl8723b_mp_chip_bt40_fw_asic_rom_patch_new',\n",
       " 'rtl8723b_mp_chip_bt40_fw_asic_rom_patch_new_s1',\n",
       " 'rtl8723d_mp_chip_bt40_fw_asic_rom_patch_new',\n",
       " 'rtl8821c_mp_chip_bt40_fw_asic_rom_patch_new',\n",
       " 'rtl8822b_mp_chip_bt40_fw_asic_rom_patch_new',\n",
       " 'rtl8822c_mp_chip_bt40_fw_asic_rom_patch_new',\n",
       " 'rtl8852a_mp_chip_bt40_fw_asic_rom_patch_new',\n",
       " 'rtl8852b_mp_chip_bt40_fw_asic_rom_patch_new',\n",
       " 'SchCache',\n",
       " 'schemas',\n",
       " 'security',\n",
       " 'ServiceProfiles',\n",
       " 'ServiceState',\n",
       " 'servicing',\n",
       " 'Setup',\n",
       " 'setupact.log',\n",
       " 'setuperr.log',\n",
       " 'ShellComponents',\n",
       " 'ShellExperiences',\n",
       " 'SKB',\n",
       " 'SoftwareDistribution',\n",
       " 'Speech',\n",
       " 'Speech_OneCore',\n",
       " 'splwow64.exe',\n",
       " 'System',\n",
       " 'system.ini',\n",
       " 'System32',\n",
       " 'SystemApps',\n",
       " 'SystemResources',\n",
       " 'SystemTemp',\n",
       " 'SysWOW64',\n",
       " 'TAPI',\n",
       " 'Tasks',\n",
       " 'Temp',\n",
       " 'TextInput',\n",
       " 'tracing',\n",
       " 'twain_32',\n",
       " 'twain_32.dll',\n",
       " 'UUS',\n",
       " 'Vss',\n",
       " 'WaaS',\n",
       " 'Web',\n",
       " 'win.ini',\n",
       " 'WindowsShell.Manifest',\n",
       " 'WindowsUpdate.log',\n",
       " 'winhlp32.exe',\n",
       " 'WinSxS',\n",
       " 'WMSysPr9.prx',\n",
       " 'write.exe',\n",
       " 'WUModels']"
      ]
     },
     "execution_count": 5,
     "metadata": {},
     "output_type": "execute_result"
    }
   ],
   "source": [
    "print('all the content of some other location')\n",
    "path='c:/Windows/'\n",
    "os.listdir(path)"
   ]
  },
  {
   "cell_type": "code",
   "execution_count": 15,
   "metadata": {},
   "outputs": [
    {
     "ename": "SyntaxError",
     "evalue": "(unicode error) 'unicodeescape' codec can't decode bytes in position 2-3: truncated \\UXXXXXXXX escape (3728096770.py, line 2)",
     "output_type": "error",
     "traceback": [
      "\u001b[1;36m  Cell \u001b[1;32mIn[15], line 2\u001b[1;36m\u001b[0m\n\u001b[1;33m    for root dir, files in os.walk(\"C:\\Users\\hp\\OneDrive\\Pictures\\Camera Roll\", topdown=False):\u001b[0m\n\u001b[1;37m                                                                              ^\u001b[0m\n\u001b[1;31mSyntaxError\u001b[0m\u001b[1;31m:\u001b[0m (unicode error) 'unicodeescape' codec can't decode bytes in position 2-3: truncated \\UXXXXXXXX escape\n"
     ]
    }
   ],
   "source": [
    " # recursive file and folder\n",
    "for root dirs, files in os.walk(\"C:\\Users\\hp\\OneDrive\\Pictures\\Camera Roll\", topdown=False):\n",
    "    for name in files:\n",
    "        print(os.path.join(root,name))\n",
    "    for name in dirs:  \n",
    "        print(os.path.join(root,name))"
   ]
  },
  {
   "cell_type": "code",
   "execution_count": null,
   "metadata": {},
   "outputs": [],
   "source": []
  }
 ],
 "metadata": {
  "kernelspec": {
   "display_name": "base",
   "language": "python",
   "name": "python3"
  },
  "language_info": {
   "codemirror_mode": {
    "name": "ipython",
    "version": 3
   },
   "file_extension": ".py",
   "mimetype": "text/x-python",
   "name": "python",
   "nbconvert_exporter": "python",
   "pygments_lexer": "ipython3",
   "version": "3.10.10"
  },
  "orig_nbformat": 4
 },
 "nbformat": 4,
 "nbformat_minor": 2
}
