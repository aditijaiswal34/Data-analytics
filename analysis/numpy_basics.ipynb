{
 "cells": [
  {
   "cell_type": "code",
   "execution_count": 1,
   "metadata": {},
   "outputs": [],
   "source": [
    "import numpy as np"
   ]
  },
  {
   "cell_type": "code",
   "execution_count": 2,
   "metadata": {},
   "outputs": [
    {
     "name": "stdout",
     "output_type": "stream",
     "text": [
      "[[8 1 5 9 6 1 7 4 8 3]\n",
      " [7 8 4 3 9 1 6 3 5 9]\n",
      " [8 4 1 1 6 1 7 6 1 4]\n",
      " [1 6 6 1 2 6 9 9 6 4]\n",
      " [8 2 8 4 5 1 6 3 8 5]\n",
      " [2 7 5 1 1 5 6 4 6 2]\n",
      " [2 9 9 5 4 2 7 1 2 8]\n",
      " [7 3 4 8 9 3 2 2 9 9]\n",
      " [9 9 2 3 7 4 3 8 2 2]\n",
      " [9 3 9 8 9 7 2 4 1 7]]\n"
     ]
    }
   ],
   "source": [
    "m=np.random.randint(1,10,(10,10))\n",
    "print(m)"
   ]
  },
  {
   "cell_type": "code",
   "execution_count": 4,
   "metadata": {},
   "outputs": [
    {
     "name": "stdout",
     "output_type": "stream",
     "text": [
      "8\n",
      "3\n",
      "9\n",
      "7\n"
     ]
    }
   ],
   "source": [
    "print(m[0,0])\n",
    "print(m[0,-1])\n",
    "print(m[-1,0])\n",
    "print(m[-1,-1])"
   ]
  },
  {
   "cell_type": "code",
   "execution_count": 5,
   "metadata": {},
   "outputs": [
    {
     "name": "stdout",
     "output_type": "stream",
     "text": [
      "[8 1 5 9 6 1 7 4 8 3]\n",
      "[7 8 4 3 9 1 6 3 5 9]\n",
      "[9 3 9 8 9 7 2 4 1 7]\n",
      "[[8 1 5 9 6 1 7 4 8 3]\n",
      " [7 8 4 3 9 1 6 3 5 9]\n",
      " [8 4 1 1 6 1 7 6 1 4]]\n",
      "[[7 3 4 8 9 3 2 2 9 9]\n",
      " [9 9 2 3 7 4 3 8 2 2]\n",
      " [9 3 9 8 9 7 2 4 1 7]]\n"
     ]
    }
   ],
   "source": [
    "print(m[0]) # first row\n",
    "print(m[1]) # second row\n",
    "print(m[-1]) # last row\n",
    "print(m[:3]) # first 3 rows\n",
    "print(m[-3:]) #last 3 rows\n",
    "\n",
    "\n",
    "\n"
   ]
  },
  {
   "cell_type": "code",
   "execution_count": 7,
   "metadata": {},
   "outputs": [
    {
     "name": "stdout",
     "output_type": "stream",
     "text": [
      "[8 7 8 1 8 2 2 7 9 9]\n",
      "[3 9 4 4 5 2 8 9 2 7]\n",
      "[[8 1 5]\n",
      " [7 8 4]\n",
      " [8 4 1]\n",
      " [1 6 6]\n",
      " [8 2 8]\n",
      " [2 7 5]\n",
      " [2 9 9]\n",
      " [7 3 4]\n",
      " [9 9 2]\n",
      " [9 3 9]]\n",
      "[[4 8 3]\n",
      " [3 5 9]\n",
      " [6 1 4]\n",
      " [9 6 4]\n",
      " [3 8 5]\n",
      " [4 6 2]\n",
      " [1 2 8]\n",
      " [2 9 9]\n",
      " [8 2 2]\n",
      " [4 1 7]]\n"
     ]
    }
   ],
   "source": [
    "print(m[:,0])\n",
    "print(m[:,-1])\n",
    "print(m[:,:3])\n",
    "print(m[:,-3:])\n",
    "\n"
   ]
  },
  {
   "cell_type": "code",
   "execution_count": 8,
   "metadata": {},
   "outputs": [
    {
     "name": "stdout",
     "output_type": "stream",
     "text": [
      "[[8 5 9 1]\n",
      " [7 4 3 1]\n",
      " [8 1 1 1]\n",
      " [1 6 1 6]\n",
      " [8 8 4 1]\n",
      " [2 5 1 5]\n",
      " [2 9 5 2]\n",
      " [7 4 8 3]\n",
      " [9 2 3 4]\n",
      " [9 9 8 7]]\n"
     ]
    }
   ],
   "source": [
    "print(m[:,[0,2,3,5]])"
   ]
  },
  {
   "cell_type": "markdown",
   "metadata": {},
   "source": [
    "# filtering"
   ]
  },
  {
   "cell_type": "code",
   "execution_count": 10,
   "metadata": {},
   "outputs": [
    {
     "data": {
      "text/plain": [
       "array([[False,  True, False, False, False,  True, False,  True, False,\n",
       "         True],\n",
       "       [False, False,  True,  True, False,  True, False,  True, False,\n",
       "        False],\n",
       "       [False,  True,  True,  True, False,  True, False, False,  True,\n",
       "         True],\n",
       "       [ True, False, False,  True,  True, False, False, False, False,\n",
       "         True],\n",
       "       [False,  True, False,  True, False,  True, False,  True, False,\n",
       "        False],\n",
       "       [ True, False, False,  True,  True, False, False,  True, False,\n",
       "         True],\n",
       "       [ True, False, False, False,  True,  True, False,  True,  True,\n",
       "        False],\n",
       "       [False,  True,  True, False, False,  True,  True,  True, False,\n",
       "        False],\n",
       "       [False, False,  True,  True, False,  True,  True, False,  True,\n",
       "         True],\n",
       "       [False,  True, False, False, False, False,  True,  True,  True,\n",
       "        False]])"
      ]
     },
     "execution_count": 10,
     "metadata": {},
     "output_type": "execute_result"
    }
   ],
   "source": [
    "m<5 #boolean filter"
   ]
  },
  {
   "cell_type": "code",
   "execution_count": 11,
   "metadata": {},
   "outputs": [
    {
     "data": {
      "text/plain": [
       "array([1, 1, 4, 3, 4, 3, 1, 3, 4, 1, 1, 1, 1, 4, 1, 1, 2, 4, 2, 4, 1, 3,\n",
       "       2, 1, 1, 4, 2, 2, 4, 2, 1, 2, 3, 4, 3, 2, 2, 2, 3, 4, 3, 2, 2, 3,\n",
       "       2, 4, 1])"
      ]
     },
     "execution_count": 11,
     "metadata": {},
     "output_type": "execute_result"
    }
   ],
   "source": [
    "m[m<5]"
   ]
  },
  {
   "cell_type": "code",
   "execution_count": 12,
   "metadata": {},
   "outputs": [
    {
     "data": {
      "text/plain": [
       "array([8, 5, 9, 6, 7, 4, 8, 7, 8, 4, 9, 6, 5, 9, 8, 4, 6, 7, 6, 4, 6, 6,\n",
       "       6, 9, 9, 6, 4, 8, 8, 4, 5, 6, 8, 5, 7, 5, 5, 6, 4, 6, 9, 9, 5, 4,\n",
       "       7, 8, 7, 4, 8, 9, 9, 9, 9, 9, 7, 4, 8, 9, 9, 8, 9, 7, 4, 7])"
      ]
     },
     "execution_count": 12,
     "metadata": {},
     "output_type": "execute_result"
    }
   ],
   "source": [
    "m[m>3]"
   ]
  },
  {
   "cell_type": "code",
   "execution_count": 13,
   "metadata": {},
   "outputs": [
    {
     "data": {
      "text/plain": [
       "array([5, 6, 4, 3, 4, 3, 6, 3, 5, 4, 6, 6, 4, 6, 6, 6, 6, 4, 4, 5, 6, 3,\n",
       "       5, 5, 5, 6, 4, 6, 5, 4, 3, 4, 3, 3, 4, 3, 3, 4])"
      ]
     },
     "execution_count": 13,
     "metadata": {},
     "output_type": "execute_result"
    }
   ],
   "source": [
    "m[(m>=3) & (m<=6)]"
   ]
  },
  {
   "cell_type": "code",
   "execution_count": 15,
   "metadata": {},
   "outputs": [
    {
     "ename": "ValueError",
     "evalue": "The truth value of an array with more than one element is ambiguous. Use a.any() or a.all()",
     "output_type": "error",
     "traceback": [
      "\u001b[1;31m---------------------------------------------------------------------------\u001b[0m",
      "\u001b[1;31mValueError\u001b[0m                                Traceback (most recent call last)",
      "Cell \u001b[1;32mIn[15], line 1\u001b[0m\n\u001b[1;32m----> 1\u001b[0m get_ipython()\u001b[39m.\u001b[39;49mrun_line_magic(\u001b[39m'\u001b[39;49m\u001b[39mpinfo\u001b[39;49m\u001b[39m'\u001b[39;49m, \u001b[39m'\u001b[39;49m\u001b[39mm.flatten\u001b[39;49m\u001b[39m'\u001b[39;49m)\n",
      "File \u001b[1;32mc:\\Users\\hp\\miniconda3\\lib\\site-packages\\IPython\\core\\interactiveshell.py:2414\u001b[0m, in \u001b[0;36mInteractiveShell.run_line_magic\u001b[1;34m(self, magic_name, line, _stack_depth)\u001b[0m\n\u001b[0;32m   2412\u001b[0m     kwargs[\u001b[39m'\u001b[39m\u001b[39mlocal_ns\u001b[39m\u001b[39m'\u001b[39m] \u001b[39m=\u001b[39m \u001b[39mself\u001b[39m\u001b[39m.\u001b[39mget_local_scope(stack_depth)\n\u001b[0;32m   2413\u001b[0m \u001b[39mwith\u001b[39;00m \u001b[39mself\u001b[39m\u001b[39m.\u001b[39mbuiltin_trap:\n\u001b[1;32m-> 2414\u001b[0m     result \u001b[39m=\u001b[39m fn(\u001b[39m*\u001b[39margs, \u001b[39m*\u001b[39m\u001b[39m*\u001b[39mkwargs)\n\u001b[0;32m   2416\u001b[0m \u001b[39m# The code below prevents the output from being displayed\u001b[39;00m\n\u001b[0;32m   2417\u001b[0m \u001b[39m# when using magics with decodator @output_can_be_silenced\u001b[39;00m\n\u001b[0;32m   2418\u001b[0m \u001b[39m# when the last Python token in the expression is a ';'.\u001b[39;00m\n\u001b[0;32m   2419\u001b[0m \u001b[39mif\u001b[39;00m \u001b[39mgetattr\u001b[39m(fn, magic\u001b[39m.\u001b[39mMAGIC_OUTPUT_CAN_BE_SILENCED, \u001b[39mFalse\u001b[39;00m):\n",
      "File \u001b[1;32mc:\\Users\\hp\\miniconda3\\lib\\site-packages\\IPython\\core\\magics\\namespace.py:58\u001b[0m, in \u001b[0;36mNamespaceMagics.pinfo\u001b[1;34m(self, parameter_s, namespaces)\u001b[0m\n\u001b[0;32m     56\u001b[0m     \u001b[39mself\u001b[39m\u001b[39m.\u001b[39mpsearch(oname)\n\u001b[0;32m     57\u001b[0m \u001b[39melse\u001b[39;00m:\n\u001b[1;32m---> 58\u001b[0m     \u001b[39mself\u001b[39;49m\u001b[39m.\u001b[39;49mshell\u001b[39m.\u001b[39;49m_inspect(\u001b[39m'\u001b[39;49m\u001b[39mpinfo\u001b[39;49m\u001b[39m'\u001b[39;49m, oname, detail_level\u001b[39m=\u001b[39;49mdetail_level,\n\u001b[0;32m     59\u001b[0m                         namespaces\u001b[39m=\u001b[39;49mnamespaces)\n",
      "File \u001b[1;32mc:\\Users\\hp\\miniconda3\\lib\\site-packages\\IPython\\core\\interactiveshell.py:1795\u001b[0m, in \u001b[0;36mInteractiveShell._inspect\u001b[1;34m(self, meth, oname, namespaces, **kw)\u001b[0m\n\u001b[0;32m   1793\u001b[0m     pmethod(info\u001b[39m.\u001b[39mobj, oname, formatter)\n\u001b[0;32m   1794\u001b[0m \u001b[39melif\u001b[39;00m meth \u001b[39m==\u001b[39m \u001b[39m'\u001b[39m\u001b[39mpinfo\u001b[39m\u001b[39m'\u001b[39m:\n\u001b[1;32m-> 1795\u001b[0m     pmethod(\n\u001b[0;32m   1796\u001b[0m         info\u001b[39m.\u001b[39mobj,\n\u001b[0;32m   1797\u001b[0m         oname,\n\u001b[0;32m   1798\u001b[0m         formatter,\n\u001b[0;32m   1799\u001b[0m         info,\n\u001b[0;32m   1800\u001b[0m         enable_html_pager\u001b[39m=\u001b[39m\u001b[39mself\u001b[39m\u001b[39m.\u001b[39menable_html_pager,\n\u001b[0;32m   1801\u001b[0m         \u001b[39m*\u001b[39m\u001b[39m*\u001b[39mkw,\n\u001b[0;32m   1802\u001b[0m     )\n\u001b[0;32m   1803\u001b[0m \u001b[39melse\u001b[39;00m:\n\u001b[0;32m   1804\u001b[0m     pmethod(info\u001b[39m.\u001b[39mobj, oname)\n",
      "File \u001b[1;32mc:\\Users\\hp\\miniconda3\\lib\\site-packages\\IPython\\core\\oinspect.py:782\u001b[0m, in \u001b[0;36mInspector.pinfo\u001b[1;34m(self, obj, oname, formatter, info, detail_level, enable_html_pager, omit_sections)\u001b[0m\n\u001b[0;32m    758\u001b[0m \u001b[39m\u001b[39m\u001b[39m\"\"\"Show detailed information about an object.\u001b[39;00m\n\u001b[0;32m    759\u001b[0m \n\u001b[0;32m    760\u001b[0m \u001b[39mOptional arguments:\u001b[39;00m\n\u001b[1;32m   (...)\u001b[0m\n\u001b[0;32m    779\u001b[0m \u001b[39m- omit_sections: set of section keys and titles to omit\u001b[39;00m\n\u001b[0;32m    780\u001b[0m \u001b[39m\"\"\"\u001b[39;00m\n\u001b[0;32m    781\u001b[0m \u001b[39massert\u001b[39;00m info \u001b[39mis\u001b[39;00m \u001b[39mnot\u001b[39;00m \u001b[39mNone\u001b[39;00m\n\u001b[1;32m--> 782\u001b[0m info_b: Bundle \u001b[39m=\u001b[39m \u001b[39mself\u001b[39;49m\u001b[39m.\u001b[39;49m_get_info(\n\u001b[0;32m    783\u001b[0m     obj, oname, formatter, info, detail_level, omit_sections\u001b[39m=\u001b[39;49momit_sections\n\u001b[0;32m    784\u001b[0m )\n\u001b[0;32m    785\u001b[0m \u001b[39mif\u001b[39;00m \u001b[39mnot\u001b[39;00m enable_html_pager:\n\u001b[0;32m    786\u001b[0m     \u001b[39mdel\u001b[39;00m info_b[\u001b[39m\"\u001b[39m\u001b[39mtext/html\u001b[39m\u001b[39m\"\u001b[39m]\n",
      "File \u001b[1;32mc:\\Users\\hp\\miniconda3\\lib\\site-packages\\IPython\\core\\oinspect.py:738\u001b[0m, in \u001b[0;36mInspector._get_info\u001b[1;34m(self, obj, oname, formatter, info, detail_level, omit_sections)\u001b[0m\n\u001b[0;32m    712\u001b[0m \u001b[39mdef\u001b[39;00m \u001b[39m_get_info\u001b[39m(\n\u001b[0;32m    713\u001b[0m     \u001b[39mself\u001b[39m,\n\u001b[0;32m    714\u001b[0m     obj: Any,\n\u001b[1;32m   (...)\u001b[0m\n\u001b[0;32m    719\u001b[0m     omit_sections\u001b[39m=\u001b[39m(),\n\u001b[0;32m    720\u001b[0m ) \u001b[39m-\u001b[39m\u001b[39m>\u001b[39m Bundle:\n\u001b[0;32m    721\u001b[0m \u001b[39m    \u001b[39m\u001b[39m\"\"\"Retrieve an info dict and format it.\u001b[39;00m\n\u001b[0;32m    722\u001b[0m \n\u001b[0;32m    723\u001b[0m \u001b[39m    Parameters\u001b[39;00m\n\u001b[1;32m   (...)\u001b[0m\n\u001b[0;32m    735\u001b[0m \u001b[39m        Titles or keys to omit from output (can be set, tuple, etc., anything supporting `in`)\u001b[39;00m\n\u001b[0;32m    736\u001b[0m \u001b[39m    \"\"\"\u001b[39;00m\n\u001b[1;32m--> 738\u001b[0m     info_dict \u001b[39m=\u001b[39m \u001b[39mself\u001b[39;49m\u001b[39m.\u001b[39;49minfo(obj, oname\u001b[39m=\u001b[39;49moname, info\u001b[39m=\u001b[39;49minfo, detail_level\u001b[39m=\u001b[39;49mdetail_level)\n\u001b[0;32m    739\u001b[0m     bundle \u001b[39m=\u001b[39m \u001b[39mself\u001b[39m\u001b[39m.\u001b[39m_make_info_unformatted(\n\u001b[0;32m    740\u001b[0m         obj,\n\u001b[0;32m    741\u001b[0m         info_dict,\n\u001b[1;32m   (...)\u001b[0m\n\u001b[0;32m    744\u001b[0m         omit_sections\u001b[39m=\u001b[39momit_sections,\n\u001b[0;32m    745\u001b[0m     )\n\u001b[0;32m    746\u001b[0m     \u001b[39mreturn\u001b[39;00m \u001b[39mself\u001b[39m\u001b[39m.\u001b[39mformat_mime(bundle)\n",
      "File \u001b[1;32mc:\\Users\\hp\\miniconda3\\lib\\site-packages\\IPython\\core\\oinspect.py:838\u001b[0m, in \u001b[0;36mInspector.info\u001b[1;34m(self, obj, oname, info, detail_level)\u001b[0m\n\u001b[0;32m    836\u001b[0m parents_docs \u001b[39m=\u001b[39m \u001b[39mNone\u001b[39;00m\n\u001b[0;32m    837\u001b[0m prelude \u001b[39m=\u001b[39m \u001b[39m\"\u001b[39m\u001b[39m\"\u001b[39m\n\u001b[1;32m--> 838\u001b[0m \u001b[39mif\u001b[39;00m info \u001b[39mand\u001b[39;00m info\u001b[39m.\u001b[39mparent \u001b[39mand\u001b[39;00m \u001b[39mhasattr\u001b[39m(info\u001b[39m.\u001b[39mparent, HOOK_NAME):\n\u001b[0;32m    839\u001b[0m     parents_docs_dict \u001b[39m=\u001b[39m \u001b[39mgetattr\u001b[39m(info\u001b[39m.\u001b[39mparent, HOOK_NAME)\n\u001b[0;32m    840\u001b[0m     parents_docs \u001b[39m=\u001b[39m parents_docs_dict\u001b[39m.\u001b[39mget(att_name, \u001b[39mNone\u001b[39;00m)\n",
      "\u001b[1;31mValueError\u001b[0m: The truth value of an array with more than one element is ambiguous. Use a.any() or a.all()"
     ]
    }
   ],
   "source": [
    "m.flatten?"
   ]
  },
  {
   "cell_type": "code",
   "execution_count": null,
   "metadata": {},
   "outputs": [],
   "source": []
  }
 ],
 "metadata": {
  "kernelspec": {
   "display_name": "Python 3",
   "language": "python",
   "name": "python3"
  },
  "language_info": {
   "codemirror_mode": {
    "name": "ipython",
    "version": 3
   },
   "file_extension": ".py",
   "mimetype": "text/x-python",
   "name": "python",
   "nbconvert_exporter": "python",
   "pygments_lexer": "ipython3",
   "version": "3.10.10"
  },
  "orig_nbformat": 4
 },
 "nbformat": 4,
 "nbformat_minor": 2
}
